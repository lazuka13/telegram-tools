{
 "cells": [
  {
   "cell_type": "code",
   "execution_count": 5,
   "id": "de5952a4",
   "metadata": {},
   "outputs": [],
   "source": [
    "from configparser import ConfigParser\n",
    "\n",
    "config = ConfigParser()\n",
    "config.read('telegram.ini')\n",
    "\n",
    "api_id = config['api']['id']\n",
    "api_hash = config['api']['hash']\n",
    "\n",
    "phone = config['user']['phone']\n",
    "password = config['user']['password']\n",
    "session = config['user']['session']"
   ]
  },
  {
   "cell_type": "code",
   "execution_count": null,
   "id": "901654bb",
   "metadata": {},
   "outputs": [],
   "source": [
    "import os.path\n",
    "import datetime\n",
    "import logging\n",
    "\n",
    "from telethon import TelegramClient, functions\n",
    "from telethon.tl.types import Chat, Channel, User\n",
    "\n",
    "try:\n",
    "    await client.disconnect()\n",
    "except:\n",
    "    logging.exception('disconnect:')\n",
    "client = TelegramClient(session, api_id, api_hash, use_ipv6=True)\n",
    "await client.start(phone, password)"
   ]
  },
  {
   "cell_type": "code",
   "execution_count": null,
   "id": "d66d421a",
   "metadata": {},
   "outputs": [],
   "source": [
    "# list all contacts\n",
    "def user_str(user):\n",
    "    return f\"{user.first_name} {user.last_name}\"\n",
    "\n",
    "contacts = await client(functions.contacts.GetContactsRequest(hash=0))    \n",
    "for user in contacts.users:\n",
    "    print(user_str(user))"
   ]
  },
  {
   "cell_type": "code",
   "execution_count": 9,
   "id": "260cc54e",
   "metadata": {},
   "outputs": [
    {
     "name": "stdout",
     "output_type": "stream",
     "text": [
      "to delete expected: 1 ['John Doe']\n"
     ]
    }
   ],
   "source": [
    "DELETE = [\n",
    "    \"John Doe\",\n",
    "]\n",
    "print('to delete expected:', len(DELETE), DELETE)"
   ]
  },
  {
   "cell_type": "code",
   "execution_count": 10,
   "id": "c95a76f1",
   "metadata": {},
   "outputs": [
    {
     "name": "stdout",
     "output_type": "stream",
     "text": [
      "to delete actual: 0\n"
     ]
    }
   ],
   "source": [
    "users_to_delete = []\n",
    "\n",
    "for user in contacts.users:\n",
    "    if user_str(user) in DELETE:\n",
    "        users_to_delete.append(user)\n",
    "\n",
    "print('to delete actual:', len(users_to_delete))"
   ]
  },
  {
   "cell_type": "code",
   "execution_count": null,
   "id": "35851b73",
   "metadata": {},
   "outputs": [],
   "source": [
    "# delete contacts\n",
    "await client(functions.contacts.DeleteContactsRequest(id=users_to_delete))"
   ]
  }
 ],
 "metadata": {
  "kernelspec": {
   "display_name": "Telethon",
   "language": "python",
   "name": "telethon"
  },
  "language_info": {
   "codemirror_mode": {
    "name": "ipython",
    "version": 3
   },
   "file_extension": ".py",
   "mimetype": "text/x-python",
   "name": "python",
   "nbconvert_exporter": "python",
   "pygments_lexer": "ipython3",
   "version": "3.11.7"
  }
 },
 "nbformat": 4,
 "nbformat_minor": 5
}
