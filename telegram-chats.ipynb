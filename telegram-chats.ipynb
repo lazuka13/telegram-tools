{
 "cells": [
  {
   "cell_type": "code",
   "execution_count": 11,
   "id": "abcc2426",
   "metadata": {},
   "outputs": [],
   "source": [
    "from configparser import ConfigParser\n",
    "\n",
    "config = ConfigParser()\n",
    "config.read('telegram.ini')\n",
    "\n",
    "api_id = config['api']['id']\n",
    "api_hash = config['api']['hash']\n",
    "\n",
    "phone = config['user']['phone']\n",
    "password = config['user']['password']\n",
    "session = config['user']['session']"
   ]
  },
  {
   "cell_type": "code",
   "execution_count": null,
   "id": "b8cf7435",
   "metadata": {},
   "outputs": [],
   "source": [
    "import os.path\n",
    "import datetime\n",
    "import logging\n",
    "\n",
    "from telethon import TelegramClient, functions\n",
    "from telethon.tl.types import Chat, Channel, User\n",
    "\n",
    "try:\n",
    "    await client.disconnect()\n",
    "except:\n",
    "    logging.exception('disconnect:')\n",
    "client = TelegramClient(session, api_id, api_hash, use_ipv6=True)\n",
    "await client.start(phone, password)"
   ]
  },
  {
   "cell_type": "code",
   "execution_count": 13,
   "id": "c5853c5e",
   "metadata": {},
   "outputs": [
    {
     "name": "stdout",
     "output_type": "stream",
     "text": [
      "dialogs: 613\n",
      "groups: 212\n",
      "users: 401\n"
     ]
    }
   ],
   "source": [
    "dialogs = await client.get_dialogs(ignore_migrated=True)\n",
    "print('dialogs:', len(dialogs))\n",
    "\n",
    "groups = [d for d in dialogs if type(d.entity) != User]\n",
    "groups = list(sorted(groups, key = lambda g: g.date))\n",
    "print('groups:', len(groups))\n",
    "\n",
    "users = [d for d in dialogs if type(d.entity) == User]\n",
    "users = list(sorted(users, key = lambda g: g.date))\n",
    "print('users:', len(users))"
   ]
  },
  {
   "cell_type": "code",
   "execution_count": 14,
   "id": "c37ea360",
   "metadata": {},
   "outputs": [
    {
     "name": "stdout",
     "output_type": "stream",
     "text": [
      "12\n"
     ]
    }
   ],
   "source": [
    "old_users = [u for u in users if (datetime.datetime.now() - u.date.replace(tzinfo=None) > datetime.timedelta(days = 31 * 6))]\n",
    "print(len(old_users))"
   ]
  },
  {
   "cell_type": "code",
   "execution_count": 184,
   "id": "ff60ac4c",
   "metadata": {},
   "outputs": [],
   "source": [
    "WHITELISTED = [\n",
    "]\n",
    "\n",
    "def print_group(g):\n",
    "    if g.name in WHITELISTED:\n",
    "        return\n",
    "    print(g.name, \"| \", g.date, \"| \", repr(g.message.message))\n",
    "        \n",
    "async def drop_group(g):\n",
    "    if g.name in WHITELISTED:\n",
    "        return\n",
    "    try:\n",
    "        await client.delete_dialog(g)\n",
    "        await client(functions.messages.DeleteHistoryRequest(\n",
    "            peer=g.entity,\n",
    "            max_id=0,\n",
    "            just_clear=True,\n",
    "            revoke=False,\n",
    "            min_date=datetime.datetime.now() - datetime.timedelta(days=365*10),\n",
    "            max_date=datetime.datetime.now()\n",
    "        ))\n",
    "    except:\n",
    "        logging.exception('drop:')\n",
    "        \n",
    "for g in old_users[:]:\n",
    "    print_group(g)\n",
    "#     await drop_group(g)"
   ]
  },
  {
   "cell_type": "code",
   "execution_count": null,
   "id": "562ea456",
   "metadata": {},
   "outputs": [],
   "source": []
  }
 ],
 "metadata": {
  "kernelspec": {
   "display_name": "Telethon",
   "language": "python",
   "name": "telethon"
  },
  "language_info": {
   "codemirror_mode": {
    "name": "ipython",
    "version": 3
   },
   "file_extension": ".py",
   "mimetype": "text/x-python",
   "name": "python",
   "nbconvert_exporter": "python",
   "pygments_lexer": "ipython3",
   "version": "3.11.7"
  }
 },
 "nbformat": 4,
 "nbformat_minor": 5
}
